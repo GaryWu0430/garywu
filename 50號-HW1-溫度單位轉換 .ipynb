{
 "cells": [
  {
   "cell_type": "code",
   "execution_count": 1,
   "metadata": {},
   "outputs": [
    {
     "name": "stdout",
     "output_type": "stream",
     "text": [
      "Input the celsius0\n",
      "celsius is: 0\n",
      "Fahrenheit is 32.0\n"
     ]
    }
   ],
   "source": [
    "c = int(input('Input the celsius'))\n",
    "print('celsius is: ', end='')\n",
    "print(c)\n",
    "\n",
    "## write your code here\n",
    "f = c * (9 / 5) +32\n",
    "print('Fahrenheit is',end = ' ' )\n",
    "print(f)"
   ]
  },
  {
   "cell_type": "code",
   "execution_count": null,
   "metadata": {},
   "outputs": [],
   "source": []
  }
 ],
 "metadata": {
  "kernelspec": {
   "display_name": "Python 3",
   "language": "python",
   "name": "python3"
  },
  "language_info": {
   "codemirror_mode": {
    "name": "ipython",
    "version": 3
   },
   "file_extension": ".py",
   "mimetype": "text/x-python",
   "name": "python",
   "nbconvert_exporter": "python",
   "pygments_lexer": "ipython3",
   "version": "3.7.4"
  }
 },
 "nbformat": 4,
 "nbformat_minor": 2
}
